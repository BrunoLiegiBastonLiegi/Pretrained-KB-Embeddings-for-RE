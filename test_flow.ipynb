{
 "cells": [
  {
   "cell_type": "code",
   "execution_count": 4,
   "id": "d8970a79",
   "metadata": {},
   "outputs": [
    {
     "name": "stdout",
     "output_type": "stream",
     "text": [
      "(tensor([[ 1],\n",
      "        [ 2],\n",
      "        [ 8],\n",
      "        [11]], device='cuda:0'), tensor([[ 0.0173, -0.0120, -0.0071, -0.0216, -0.0393, -0.0142, -0.0533,  0.0239,\n",
      "         -0.0141, -0.0097, -0.0291,  0.0468, -0.0182, -0.0553,  0.0111,  0.0276,\n",
      "          0.0400,  0.0191,  0.0004, -0.0121,  0.0501,  0.0035, -0.0035, -0.0190,\n",
      "         -0.0451,  0.0652,  0.0261,  0.0083, -0.0177,  0.0382, -0.0475, -0.0199,\n",
      "          0.0481, -0.0036,  0.0261, -0.0431,  0.0017, -0.0019,  0.0219, -0.0463,\n",
      "          0.0503,  0.0234, -0.0114, -0.0192,  0.0048, -0.0364, -0.0677,  0.0032,\n",
      "         -0.0220,  0.0589],\n",
      "        [ 0.0223,  0.0026, -0.0245, -0.0316, -0.0271,  0.0109, -0.0542, -0.0161,\n",
      "          0.0138,  0.0030, -0.0193,  0.0572, -0.0019, -0.0579,  0.0210,  0.0449,\n",
      "          0.0183,  0.0498,  0.0076,  0.0061,  0.0243,  0.0224, -0.0175, -0.0180,\n",
      "         -0.0586,  0.0541,  0.0068,  0.0043,  0.0050,  0.0465, -0.0435, -0.0519,\n",
      "          0.0332, -0.0079,  0.0267, -0.0419, -0.0230, -0.0066,  0.0188, -0.0239,\n",
      "          0.0461, -0.0006, -0.0010, -0.0134,  0.0072, -0.0505, -0.0619, -0.0245,\n",
      "         -0.0192,  0.0421],\n",
      "        [ 0.0459,  0.0035, -0.0347, -0.0328, -0.0137, -0.0028, -0.0389,  0.0093,\n",
      "          0.0094,  0.0044, -0.0167,  0.0617, -0.0184, -0.0511,  0.0043,  0.0361,\n",
      "          0.0316,  0.0437, -0.0113, -0.0190,  0.0263,  0.0320, -0.0188, -0.0336,\n",
      "         -0.0554,  0.0712, -0.0215,  0.0267, -0.0100,  0.0277, -0.0475, -0.0276,\n",
      "          0.0295,  0.0010,  0.0427, -0.0237, -0.0072, -0.0129,  0.0151, -0.0365,\n",
      "          0.0336, -0.0009, -0.0133, -0.0405, -0.0084, -0.0595, -0.0390,  0.0157,\n",
      "         -0.0192,  0.0573],\n",
      "        [ 0.0040, -0.0275, -0.0322, -0.0243, -0.0274, -0.0241, -0.0508,  0.0083,\n",
      "          0.0174,  0.0142, -0.0220,  0.0760, -0.0324, -0.0589,  0.0102,  0.0385,\n",
      "          0.0227,  0.0607,  0.0079, -0.0338, -0.0032,  0.0115, -0.0217, -0.0142,\n",
      "         -0.0735,  0.0691, -0.0137,  0.0196,  0.0266,  0.0403, -0.0439, -0.0511,\n",
      "          0.0294, -0.0151,  0.0190, -0.0155, -0.0237, -0.0179,  0.0076, -0.0526,\n",
      "          0.0438, -0.0078,  0.0030, -0.0386,  0.0136, -0.0256, -0.0694, -0.0174,\n",
      "         -0.0353,  0.0585]], device='cuda:0', grad_fn=<SliceBackward>))\n",
      "(tensor([[ 1,  2],\n",
      "        [ 1,  8],\n",
      "        [ 1, 11],\n",
      "        [ 2,  1],\n",
      "        [ 2,  8],\n",
      "        [ 2, 11],\n",
      "        [ 8,  1],\n",
      "        [ 8,  2],\n",
      "        [ 8, 11],\n",
      "        [11,  1],\n",
      "        [11,  2],\n",
      "        [11,  8]], device='cuda:0'), tensor([[-0.1227, -0.0644],\n",
      "        [-0.0981,  0.0072],\n",
      "        [-0.2337, -0.1648],\n",
      "        [-0.4128, -0.2530],\n",
      "        [-0.2105,  0.1851],\n",
      "        [ 0.0566, -0.0191],\n",
      "        [-0.4145, -0.2974],\n",
      "        [-0.0177,  0.1786],\n",
      "        [ 0.0212, -0.1098],\n",
      "        [-0.2754, -0.6403],\n",
      "        [ 0.0351,  0.1105],\n",
      "        [-0.2692, -0.1561]], device='cuda:0', grad_fn=<AddBackward0>))\n"
     ]
    }
   ],
   "source": [
    "from pipeline import Pipeline\n",
    "from transformers import AutoTokenizer\n",
    "from utils import BIOES\n",
    "from torchviz import make_dot\n",
    "import torch\n",
    "\n",
    "sent = 'This is just a sentence to test data flow in the model.'\n",
    "\n",
    "dev = torch.device('cuda:0')\n",
    "\n",
    "bioes = BIOES(['PER','LOC'])\n",
    "bert = 'bert-base-uncased'\n",
    "tokenizer = AutoTokenizer.from_pretrained(bert)\n",
    "model = Pipeline(bert, ner_dim=bioes.space_dim, ner_scheme=bioes, ned_dim=50, KB={}, re_dim=2)\n",
    "#model.unfreeze_bert_layer(0)\n",
    "\n",
    "model.to(dev)\n",
    "\n",
    "\n",
    "inputs = tokenizer(sent, return_tensors='pt').to(dev)\n",
    "out = model(inputs)\n",
    "print(out[1])\n",
    "print(out[2])\n"
   ]
  },
  {
   "cell_type": "code",
   "execution_count": 5,
   "id": "728ca6cf",
   "metadata": {},
   "outputs": [
    {
     "data": {
      "text/plain": [
       "'flow.png'"
      ]
     },
     "execution_count": 5,
     "metadata": {},
     "output_type": "execute_result"
    }
   ],
   "source": [
    "dot = make_dot(out[2], dict(model.named_parameters()))\n",
    "\n",
    "dot.format = 'png'\n",
    "dot.render(\"flow\")"
   ]
  },
  {
   "cell_type": "code",
   "execution_count": null,
   "id": "94f7e9ca",
   "metadata": {},
   "outputs": [],
   "source": []
  }
 ],
 "metadata": {
  "kernelspec": {
   "display_name": "Python 3",
   "language": "python",
   "name": "python3"
  },
  "language_info": {
   "codemirror_mode": {
    "name": "ipython",
    "version": 3
   },
   "file_extension": ".py",
   "mimetype": "text/x-python",
   "name": "python",
   "nbconvert_exporter": "python",
   "pygments_lexer": "ipython3",
   "version": "3.9.2"
  }
 },
 "nbformat": 4,
 "nbformat_minor": 5
}
